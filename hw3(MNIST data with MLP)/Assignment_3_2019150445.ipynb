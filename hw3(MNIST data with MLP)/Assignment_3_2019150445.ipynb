{
 "cells": [
  {
   "cell_type": "markdown",
   "metadata": {
    "id": "2r9m19m_gsVH"
   },
   "source": [
    "Name: 신백록\n",
    "\n",
    "ID: 2019150445"
   ]
  },
  {
   "cell_type": "markdown",
   "metadata": {
    "id": "C7GeazoNa_7z"
   },
   "source": [
    "Write your codes and descriptions in the below **implementation** section. \\\n",
    "This file should be successfully implemented when running all cells."
   ]
  },
  {
   "cell_type": "markdown",
   "metadata": {
    "id": "6S6p0kQxbDd-"
   },
   "source": [
    "## Setup"
   ]
  },
  {
   "cell_type": "code",
   "execution_count": 2,
   "metadata": {
    "id": "cWpzi8WuOBhF"
   },
   "outputs": [],
   "source": [
    "# Python ≥3.5 is required\n",
    "import sys\n",
    "assert sys.version_info >= (3, 5)\n",
    "\n",
    "# Scikit-Learn ≥0.20 is required\n",
    "import sklearn\n",
    "assert sklearn.__version__ >= \"0.20\"\n",
    "\n",
    "import numpy as np\n",
    "import os\n",
    "\n",
    "# Additional libraries should be defined here\n"
   ]
  },
  {
   "cell_type": "markdown",
   "metadata": {
    "id": "NunRFPKkbpV8"
   },
   "source": [
    "## Dataset\n",
    "- Set the random state parameters of all possible functions to your student ID.\n",
    "- Randomly divide the dataset into training and test subsets using a random seed. \n",
    " > Here, the random seed is your student ID."
   ]
  },
  {
   "cell_type": "code",
   "execution_count": 3,
   "metadata": {
    "id": "lNuXAEgvRx0k"
   },
   "outputs": [],
   "source": [
    "from sklearn import datasets\n",
    "from sklearn.model_selection import train_test_split\n",
    "from sklearn.datasets import load_breast_cancer\n",
    "\n",
    "X, y = load_breast_cancer(return_X_y=True, as_frame=True)\n",
    "\n",
    "random_seed = 2019150445\n",
    "X_train, X_test, y_train, y_test = train_test_split(X, y, test_size = 0.2, random_state = random_seed)"
   ]
  },
  {
   "cell_type": "markdown",
   "metadata": {},
   "source": [
    "load_breast_cancer 함수를 통해 breast_cancer data를 X, y에 각각 dataframe 형식으로 저장하였다."
   ]
  },
  {
   "cell_type": "code",
   "execution_count": 4,
   "metadata": {
    "scrolled": true
   },
   "outputs": [
    {
     "data": {
      "text/html": [
       "<div>\n",
       "<style scoped>\n",
       "    .dataframe tbody tr th:only-of-type {\n",
       "        vertical-align: middle;\n",
       "    }\n",
       "\n",
       "    .dataframe tbody tr th {\n",
       "        vertical-align: top;\n",
       "    }\n",
       "\n",
       "    .dataframe thead th {\n",
       "        text-align: right;\n",
       "    }\n",
       "</style>\n",
       "<table border=\"1\" class=\"dataframe\">\n",
       "  <thead>\n",
       "    <tr style=\"text-align: right;\">\n",
       "      <th></th>\n",
       "      <th>mean radius</th>\n",
       "      <th>mean texture</th>\n",
       "      <th>mean perimeter</th>\n",
       "      <th>mean area</th>\n",
       "      <th>mean smoothness</th>\n",
       "      <th>mean compactness</th>\n",
       "      <th>mean concavity</th>\n",
       "      <th>mean concave points</th>\n",
       "      <th>mean symmetry</th>\n",
       "      <th>mean fractal dimension</th>\n",
       "      <th>...</th>\n",
       "      <th>worst radius</th>\n",
       "      <th>worst texture</th>\n",
       "      <th>worst perimeter</th>\n",
       "      <th>worst area</th>\n",
       "      <th>worst smoothness</th>\n",
       "      <th>worst compactness</th>\n",
       "      <th>worst concavity</th>\n",
       "      <th>worst concave points</th>\n",
       "      <th>worst symmetry</th>\n",
       "      <th>worst fractal dimension</th>\n",
       "    </tr>\n",
       "  </thead>\n",
       "  <tbody>\n",
       "    <tr>\n",
       "      <th>0</th>\n",
       "      <td>17.99</td>\n",
       "      <td>10.38</td>\n",
       "      <td>122.80</td>\n",
       "      <td>1001.0</td>\n",
       "      <td>0.11840</td>\n",
       "      <td>0.27760</td>\n",
       "      <td>0.3001</td>\n",
       "      <td>0.14710</td>\n",
       "      <td>0.2419</td>\n",
       "      <td>0.07871</td>\n",
       "      <td>...</td>\n",
       "      <td>25.38</td>\n",
       "      <td>17.33</td>\n",
       "      <td>184.60</td>\n",
       "      <td>2019.0</td>\n",
       "      <td>0.1622</td>\n",
       "      <td>0.6656</td>\n",
       "      <td>0.7119</td>\n",
       "      <td>0.2654</td>\n",
       "      <td>0.4601</td>\n",
       "      <td>0.11890</td>\n",
       "    </tr>\n",
       "    <tr>\n",
       "      <th>1</th>\n",
       "      <td>20.57</td>\n",
       "      <td>17.77</td>\n",
       "      <td>132.90</td>\n",
       "      <td>1326.0</td>\n",
       "      <td>0.08474</td>\n",
       "      <td>0.07864</td>\n",
       "      <td>0.0869</td>\n",
       "      <td>0.07017</td>\n",
       "      <td>0.1812</td>\n",
       "      <td>0.05667</td>\n",
       "      <td>...</td>\n",
       "      <td>24.99</td>\n",
       "      <td>23.41</td>\n",
       "      <td>158.80</td>\n",
       "      <td>1956.0</td>\n",
       "      <td>0.1238</td>\n",
       "      <td>0.1866</td>\n",
       "      <td>0.2416</td>\n",
       "      <td>0.1860</td>\n",
       "      <td>0.2750</td>\n",
       "      <td>0.08902</td>\n",
       "    </tr>\n",
       "    <tr>\n",
       "      <th>2</th>\n",
       "      <td>19.69</td>\n",
       "      <td>21.25</td>\n",
       "      <td>130.00</td>\n",
       "      <td>1203.0</td>\n",
       "      <td>0.10960</td>\n",
       "      <td>0.15990</td>\n",
       "      <td>0.1974</td>\n",
       "      <td>0.12790</td>\n",
       "      <td>0.2069</td>\n",
       "      <td>0.05999</td>\n",
       "      <td>...</td>\n",
       "      <td>23.57</td>\n",
       "      <td>25.53</td>\n",
       "      <td>152.50</td>\n",
       "      <td>1709.0</td>\n",
       "      <td>0.1444</td>\n",
       "      <td>0.4245</td>\n",
       "      <td>0.4504</td>\n",
       "      <td>0.2430</td>\n",
       "      <td>0.3613</td>\n",
       "      <td>0.08758</td>\n",
       "    </tr>\n",
       "    <tr>\n",
       "      <th>3</th>\n",
       "      <td>11.42</td>\n",
       "      <td>20.38</td>\n",
       "      <td>77.58</td>\n",
       "      <td>386.1</td>\n",
       "      <td>0.14250</td>\n",
       "      <td>0.28390</td>\n",
       "      <td>0.2414</td>\n",
       "      <td>0.10520</td>\n",
       "      <td>0.2597</td>\n",
       "      <td>0.09744</td>\n",
       "      <td>...</td>\n",
       "      <td>14.91</td>\n",
       "      <td>26.50</td>\n",
       "      <td>98.87</td>\n",
       "      <td>567.7</td>\n",
       "      <td>0.2098</td>\n",
       "      <td>0.8663</td>\n",
       "      <td>0.6869</td>\n",
       "      <td>0.2575</td>\n",
       "      <td>0.6638</td>\n",
       "      <td>0.17300</td>\n",
       "    </tr>\n",
       "    <tr>\n",
       "      <th>4</th>\n",
       "      <td>20.29</td>\n",
       "      <td>14.34</td>\n",
       "      <td>135.10</td>\n",
       "      <td>1297.0</td>\n",
       "      <td>0.10030</td>\n",
       "      <td>0.13280</td>\n",
       "      <td>0.1980</td>\n",
       "      <td>0.10430</td>\n",
       "      <td>0.1809</td>\n",
       "      <td>0.05883</td>\n",
       "      <td>...</td>\n",
       "      <td>22.54</td>\n",
       "      <td>16.67</td>\n",
       "      <td>152.20</td>\n",
       "      <td>1575.0</td>\n",
       "      <td>0.1374</td>\n",
       "      <td>0.2050</td>\n",
       "      <td>0.4000</td>\n",
       "      <td>0.1625</td>\n",
       "      <td>0.2364</td>\n",
       "      <td>0.07678</td>\n",
       "    </tr>\n",
       "  </tbody>\n",
       "</table>\n",
       "<p>5 rows × 30 columns</p>\n",
       "</div>"
      ],
      "text/plain": [
       "   mean radius  mean texture  mean perimeter  mean area  mean smoothness  \\\n",
       "0        17.99         10.38          122.80     1001.0          0.11840   \n",
       "1        20.57         17.77          132.90     1326.0          0.08474   \n",
       "2        19.69         21.25          130.00     1203.0          0.10960   \n",
       "3        11.42         20.38           77.58      386.1          0.14250   \n",
       "4        20.29         14.34          135.10     1297.0          0.10030   \n",
       "\n",
       "   mean compactness  mean concavity  mean concave points  mean symmetry  \\\n",
       "0           0.27760          0.3001              0.14710         0.2419   \n",
       "1           0.07864          0.0869              0.07017         0.1812   \n",
       "2           0.15990          0.1974              0.12790         0.2069   \n",
       "3           0.28390          0.2414              0.10520         0.2597   \n",
       "4           0.13280          0.1980              0.10430         0.1809   \n",
       "\n",
       "   mean fractal dimension  ...  worst radius  worst texture  worst perimeter  \\\n",
       "0                 0.07871  ...         25.38          17.33           184.60   \n",
       "1                 0.05667  ...         24.99          23.41           158.80   \n",
       "2                 0.05999  ...         23.57          25.53           152.50   \n",
       "3                 0.09744  ...         14.91          26.50            98.87   \n",
       "4                 0.05883  ...         22.54          16.67           152.20   \n",
       "\n",
       "   worst area  worst smoothness  worst compactness  worst concavity  \\\n",
       "0      2019.0            0.1622             0.6656           0.7119   \n",
       "1      1956.0            0.1238             0.1866           0.2416   \n",
       "2      1709.0            0.1444             0.4245           0.4504   \n",
       "3       567.7            0.2098             0.8663           0.6869   \n",
       "4      1575.0            0.1374             0.2050           0.4000   \n",
       "\n",
       "   worst concave points  worst symmetry  worst fractal dimension  \n",
       "0                0.2654          0.4601                  0.11890  \n",
       "1                0.1860          0.2750                  0.08902  \n",
       "2                0.2430          0.3613                  0.08758  \n",
       "3                0.2575          0.6638                  0.17300  \n",
       "4                0.1625          0.2364                  0.07678  \n",
       "\n",
       "[5 rows x 30 columns]"
      ]
     },
     "execution_count": 4,
     "metadata": {},
     "output_type": "execute_result"
    }
   ],
   "source": [
    "X.head()"
   ]
  },
  {
   "cell_type": "markdown",
   "metadata": {},
   "source": [
    "head를 통해 X의 5개 원소를 찍어보면 다음과 같다. mean area같은 특성변수의 값은 1000정도인데 smoothness eroor같은 특성변수의 값은 0.001즈음인 것을 봐서는 scale의 차이가 output에 영향을 미칠 것 같다.\n",
    "따라서 standard scaler을 사용해야 하여 scale을 조정해야할 것이다."
   ]
  },
  {
   "cell_type": "code",
   "execution_count": 5,
   "metadata": {},
   "outputs": [],
   "source": [
    "from sklearn.preprocessing import StandardScaler\n",
    "sc=StandardScaler()\n",
    "X_train = sc.fit_transform(X_train)\n",
    "X_test = sc.transform(X_test)"
   ]
  },
  {
   "cell_type": "markdown",
   "metadata": {},
   "source": [
    "X_train에 standardscaler을 적합시키고 X_test에 X_train에 적합시킨 standardscaler을 적용시켰다."
   ]
  },
  {
   "cell_type": "markdown",
   "metadata": {
    "id": "eKeZ0INzf8WM"
   },
   "source": [
    "## Implementation\n",
    "- Implementing a model to achieve the objective of the assignment and finding the optimal hyper-parameter that derives the highest diagnostic performance.\n",
    " 1. Use a model stacked up to four Multi-Layer Perceptrons (MLP) for model implementation.\n",
    " 2. All settings and hyper-parameters **except epoch and batch size**, such as activation function, number of units, learning rate, and optimizer used in the model's layers, must be found by yourself through the model training process.\n",
    "  > Describe the reason for the performance improvement in the process of finding the optimal setting to achieve the objective performance (*i.e.*, over 80%).\\\n",
    "  > The description should be written by markdown scripts.\n",
    " 3. Epochs and batch sizes are fixed at **100 and 30**, respectively.\n",
    "\n",
    "- Train the model using the training dataset."
   ]
  },
  {
   "cell_type": "code",
   "execution_count": 14,
   "metadata": {},
   "outputs": [
    {
     "name": "stdout",
     "output_type": "stream",
     "text": [
      "Model: \"sequential_3\"\n",
      "_________________________________________________________________\n",
      "Layer (type)                 Output Shape              Param #   \n",
      "=================================================================\n",
      "dense_9 (Dense)              (None, 128)               3968      \n",
      "_________________________________________________________________\n",
      "dropout_6 (Dropout)          (None, 128)               0         \n",
      "_________________________________________________________________\n",
      "dense_10 (Dense)             (None, 64)                8256      \n",
      "_________________________________________________________________\n",
      "dropout_7 (Dropout)          (None, 64)                0         \n",
      "_________________________________________________________________\n",
      "dense_11 (Dense)             (None, 1)                 65        \n",
      "=================================================================\n",
      "Total params: 12,289\n",
      "Trainable params: 12,289\n",
      "Non-trainable params: 0\n",
      "_________________________________________________________________\n"
     ]
    },
    {
     "data": {
      "image/png": "[encoded data removed]",
      "text/plain": [
       "<IPython.core.display.Image object>"
      ]
     },
     "execution_count": 14,
     "metadata": {},
     "output_type": "execute_result"
    }
   ],
   "source": [
    "from tensorflow.keras.models import Sequential\n",
    "from tensorflow.keras.layers import Dense, Activation, Dropout, BatchNormalization\n",
    "from tensorflow.keras.utils import plot_model\n",
    "\n",
    "model=Sequential()\n",
    "model.add(Dense(128, input_dim=30, activation='relu'))\n",
    "model.add(Dropout(0.2))\n",
    "model.add(Dense(64, activation='relu'))\n",
    "model.add(Dropout(0.4))\n",
    "model.add(Dense(1,activation='sigmoid'))\n",
    "model.summary()\n",
    "plot_model(model,show_shapes=True)"
   ]
  },
  {
   "cell_type": "markdown",
   "metadata": {},
   "source": [
    "Input dim은 특성변수가 30개이기에 30으로 잡았다.\n",
    "\n",
    "첫 번째 Dense층을 dimension 128, activation function은 relu로 적합시켰다.\n",
    "\n",
    "Overfitting을 방지하기 위해 Dropout을 줘서 각각의 노드가 20%의 확률로 노드가 0의 값을 가지게 하였다. \n",
    "\n",
    "두 번째 Dense층은 dimension 64, activation function은 위와 같이 relu를 주었고, 추정해야할 모수가 8256개로 첫 번째 층에 비해 많음으로 Dropout 0.4를 주었다.\n",
    "\n",
    "마지막 Dense층은 y의의 label이 1인 확률을 추출해야하기에 dimension=1, activation='sigmoid'로 주었다.\n",
    "\n",
    "이렇게 Input layer, Dense1, Dense2, Output layer 총 4개의 layer를 만들었다.\n",
    "Bottleneck 현상을 막기 위해 dimension이 128부터 점점 작아져 64 dimension에서 최종적으로 한 개의 노드를 추정하게 하였다. 이보다 unit의 수를 크게 잡으면 추정해야 할 모수가 많아져 overfitting이 발생할 가능성이 커지기에 이렇게 잡았다. \n",
    "\n",
    "Layer 사이사이에 BatchNormalization을 줘서 모델을 학습도 해보았지만 BatchNormalization없이 학습을 할 때보다 0.9정도의 train acc가 넘으면 모델이 진동하며 test set에 대해서도 전보다 안 좋은 성능이 나왔다. 추가로 각 layer에 he_normal 같은 kernel_initializer도 줘봤지만 이 역시 없을 때의 성능이 더 괜찮게 나왔다."
   ]
  },
  {
   "cell_type": "code",
   "execution_count": 15,
   "metadata": {},
   "outputs": [],
   "source": [
    "from tensorflow.keras.callbacks import EarlyStopping, ModelCheckpoint\n",
    "callback_list=[EarlyStopping(monitor='val_accuracy',patience=10),ModelCheckpoint(filepath='model.h5', monitor='val_accuracy',save_best_only=True)]"
   ]
  },
  {
   "cell_type": "markdown",
   "metadata": {},
   "source": [
    "callback을 주기위해 earlystopping, modelcheckpoint를 불러왔고, overfitting을 막기위해 validation_accuracy가 10개의 epoch동안 나아지지 않으면 학습을 중지하도록 하였고, val_accuracy가 개선될 때마다 model을 저장하도록 하였다.\n",
    "\n",
    "ReduceLROnPlateau 함수를 통해 validation_loss가 일정 epoch동안 나아지지 않으면 learning rate를 줄이게 설정도 해보았다. learning rate를 줄임으로써 global minimum에 수렴할 수 있도록 하기 위함이다. 하지만 오히려 train acc가 0.9정도에서 진동하는 양상을 보이며 학습이 제대로 이루어지지 않았고, ReduceLROnPlateau 함수가 없을 때보다 test set의 성능이 안 좋게 나왔다."
   ]
  },
  {
   "cell_type": "code",
   "execution_count": 16,
   "metadata": {},
   "outputs": [
    {
     "name": "stdout",
     "output_type": "stream",
     "text": [
      "Epoch 1/100\n",
      "11/11 [==============================] - ETA: 0s - loss: 0.5386 - accuracy: 0.7421"
     ]
    },
    {
     "name": "stderr",
     "output_type": "stream",
     "text": [
      "2021-11-28 16:29:07.262865: I tensorflow/core/grappler/optimizers/custom_graph_optimizer_registry.cc:112] Plugin optimizer for device_type GPU is enabled.\n",
      "2021-11-28 16:29:07.455265: I tensorflow/core/grappler/optimizers/custom_graph_optimizer_registry.cc:112] Plugin optimizer for device_type GPU is enabled.\n"
     ]
    },
    {
     "name": "stdout",
     "output_type": "stream",
     "text": [
      "11/11 [==============================] - 0s 17ms/step - loss: 0.5386 - accuracy: 0.7421 - val_loss: 0.3305 - val_accuracy: 0.9489\n",
      "Epoch 2/100\n",
      "11/11 [==============================] - 0s 7ms/step - loss: 0.2870 - accuracy: 0.9245 - val_loss: 0.1947 - val_accuracy: 0.9635\n",
      "Epoch 3/100\n",
      "11/11 [==============================] - 0s 8ms/step - loss: 0.1871 - accuracy: 0.9623 - val_loss: 0.1390 - val_accuracy: 0.9708\n",
      "Epoch 4/100\n",
      "11/11 [==============================] - 0s 8ms/step - loss: 0.1218 - accuracy: 0.9717 - val_loss: 0.1120 - val_accuracy: 0.9708\n",
      "Epoch 5/100\n",
      "11/11 [==============================] - 0s 8ms/step - loss: 0.0986 - accuracy: 0.9811 - val_loss: 0.0983 - val_accuracy: 0.9708\n",
      "Epoch 6/100\n",
      "11/11 [==============================] - 0s 8ms/step - loss: 0.1009 - accuracy: 0.9748 - val_loss: 0.0900 - val_accuracy: 0.9781\n",
      "Epoch 7/100\n",
      "11/11 [==============================] - 0s 8ms/step - loss: 0.0704 - accuracy: 0.9874 - val_loss: 0.0867 - val_accuracy: 0.9781\n",
      "Epoch 8/100\n",
      "11/11 [==============================] - 0s 8ms/step - loss: 0.0701 - accuracy: 0.9843 - val_loss: 0.0839 - val_accuracy: 0.9708\n",
      "Epoch 9/100\n",
      "11/11 [==============================] - 0s 8ms/step - loss: 0.0673 - accuracy: 0.9811 - val_loss: 0.0805 - val_accuracy: 0.9781\n",
      "Epoch 10/100\n",
      "11/11 [==============================] - 0s 9ms/step - loss: 0.0618 - accuracy: 0.9811 - val_loss: 0.0847 - val_accuracy: 0.9781\n",
      "Epoch 11/100\n",
      "11/11 [==============================] - 0s 9ms/step - loss: 0.0597 - accuracy: 0.9811 - val_loss: 0.0876 - val_accuracy: 0.9781\n",
      "Epoch 12/100\n",
      "11/11 [==============================] - 0s 9ms/step - loss: 0.0532 - accuracy: 0.9874 - val_loss: 0.0802 - val_accuracy: 0.9781\n",
      "Epoch 13/100\n",
      "11/11 [==============================] - 0s 9ms/step - loss: 0.0506 - accuracy: 0.9969 - val_loss: 0.0811 - val_accuracy: 0.9781\n",
      "Epoch 14/100\n",
      "11/11 [==============================] - 0s 8ms/step - loss: 0.0573 - accuracy: 0.9843 - val_loss: 0.0836 - val_accuracy: 0.9781\n",
      "Epoch 15/100\n",
      "11/11 [==============================] - 0s 8ms/step - loss: 0.0470 - accuracy: 0.9937 - val_loss: 0.0842 - val_accuracy: 0.9781\n",
      "Epoch 16/100\n",
      "11/11 [==============================] - 0s 8ms/step - loss: 0.0336 - accuracy: 0.9937 - val_loss: 0.0875 - val_accuracy: 0.9781\n"
     ]
    },
    {
     "data": {
      "text/plain": [
       "dict_keys(['loss', 'accuracy', 'val_loss', 'val_accuracy'])"
      ]
     },
     "execution_count": 16,
     "metadata": {},
     "output_type": "execute_result"
    }
   ],
   "source": [
    "model.compile(loss='binary_crossentropy',optimizer='adam', metrics=['accuracy'])\n",
    "history=model.fit(X_train, y_train, epochs=100, batch_size=30, callbacks=callback_list, validation_split=0.3)\n",
    "history_out=history.history\n",
    "history_out.keys()"
   ]
  },
  {
   "cell_type": "markdown",
   "metadata": {},
   "source": [
    "model compile 부분을 보면, 추정해야하는 y가 0 또는 1이기에 loss='binary_crossentropy'를 사용하였고, optimizer은 learning rate를 각 parameter 별 다른 크기의 update를 하는 adam을 사용하였다. metric='accuracy'를 설정해 accuracy도 출력되게 하였다.\n",
    "\n",
    "model train 부분에서는 epochs는 callback에 의해 자동으로 멈추기 때문에 100으로 넉넉히 잡았고, batch_size=30, train set안에서 validation_split을 통해 30%만큼 validation에 이용되게 하였다. 16 epoch에서 학습을 멈췄고, train set의 accuracy는 0.9937정도인 반면 validation accuracy는 0.978정도인 것으로 봐서 약간의 overfitting이 발생한 것 같다. train set의 loss는 0.03, validation set의 loss는 0.09정도 인 것을 봐서도 약간의 overfitting이 발생한 것 같다. 하지만 그리 큰 차이가 아니고, 모델이 안정적으로 학습이 되었기 때문에 test set의 성능엔 큰 문제가 되지는 않을 것이다.\n",
    "\n",
    "train 과정을 history로 저장해 loss, accuracy, validation loss, validation accuracy를 각 epoch 마다 추출하였다."
   ]
  },
  {
   "cell_type": "code",
   "execution_count": 19,
   "metadata": {},
   "outputs": [
    {
     "data": {
      "image/png": "[encoded data removed]",
      "text/plain": [
       "<Figure size 432x288 with 1 Axes>"
      ]
     },
     "metadata": {
      "needs_background": "light"
     },
     "output_type": "display_data"
    }
   ],
   "source": [
    "import matplotlib.pyplot as plt\n",
    "\n",
    "loss=history_out['loss']\n",
    "loss_val=history_out['val_loss']\n",
    "accuracy=history_out['accuracy']\n",
    "accuracy_val=history_out['val_accuracy']\n",
    "plt.plot(loss,'bo',label='training loss')\n",
    "plt.plot( loss_val,'b', label='validation loss' )\n",
    "plt.title('Training and validation losss')\n",
    "plt.xlabel('epochs')\n",
    "plt.ylabel('loss')\n",
    "plt.legend()\n",
    "plt.show()"
   ]
  },
  {
   "cell_type": "markdown",
   "metadata": {},
   "source": [
    "위에서 저장한 history를 가지고 train loss와 validation loss를 plot하였다. epoch이 반복되면서 train loss는 확실히 감소하며 수렴하는 양상을 보이고, train loss와 같이 validation loss도 점점 감소하며 수렴하고 있는 것을 볼 수 있다. 이러한 점에서 매우 안정적인 모델의 학습이 이루어진 것 같다."
   ]
  },
  {
   "cell_type": "code",
   "execution_count": 20,
   "metadata": {},
   "outputs": [
    {
     "data": {
      "image/png": "[encoded data removed]",
      "text/plain": [
       "<Figure size 432x288 with 1 Axes>"
      ]
     },
     "metadata": {
      "needs_background": "light"
     },
     "output_type": "display_data"
    }
   ],
   "source": [
    "import matplotlib.pyplot as plt\n",
    "\n",
    "plt.clf()\n",
    "plt.plot(accuracy,'bo',label='training accuracy')\n",
    "plt.plot(accuracy_val,'b', label='validation accuracy' )\n",
    "plt.title('Training and validation accuracy')\n",
    "plt.xlabel('epochs')\n",
    "plt.ylabel('accuracy')\n",
    "plt.legend()\n",
    "plt.show()"
   ]
  },
  {
   "cell_type": "markdown",
   "metadata": {},
   "source": [
    "accuracy를 plot하여봐도 마찬가지로 점점 증가하며 안정적이게 수렴하는 양상을 보인다."
   ]
  },
  {
   "cell_type": "markdown",
   "metadata": {
    "id": "2QKhotadU3G8"
   },
   "source": [
    "## Model Evaluation\n",
    "- Show the performance (*i.e.*, loss and accuracy) of the trained model using the test dataset."
   ]
  },
  {
   "cell_type": "code",
   "execution_count": 18,
   "metadata": {},
   "outputs": [
    {
     "name": "stdout",
     "output_type": "stream",
     "text": [
      "4/4 [==============================] - 0s 6ms/step - loss: 0.0828 - accuracy: 0.9825\n",
      "Student ID: 2019150445 | Loss: 0.083, Accuracy: 0.982\n"
     ]
    }
   ],
   "source": [
    "loss, acc = model.evaluate(X_test, y_test)\n",
    "print(\"Student ID: %d | Loss: %.3f, Accuracy: %.3f\" % (random_seed, loss, acc))"
   ]
  },
  {
   "cell_type": "markdown",
   "metadata": {},
   "source": [
    "test acc는 0.98정도로 overfitting 없이 매우 좋은 성능이 나왔다."
   ]
  }
 ],
 "metadata": {
  "colab": {
   "collapsed_sections": [],
   "name": "Assignment_MLP_draft1.ipynb",
   "provenance": []
  },
  "kernelspec": {
   "display_name": "Python 3 (ipykernel)",
   "language": "python",
   "name": "python3"
  },
  "language_info": {
   "codemirror_mode": {
    "name": "ipython",
    "version": 3
   },
   "file_extension": ".py",
   "mimetype": "text/x-python",
   "name": "python",
   "nbconvert_exporter": "python",
   "pygments_lexer": "ipython3",
   "version": "3.8.10"
  }
 },
 "nbformat": 4,
 "nbformat_minor": 1
}
